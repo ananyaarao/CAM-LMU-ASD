{
 "cells": [
  {
   "cell_type": "code",
   "execution_count": null,
   "id": "8d332a66-999d-4c52-81b2-0c3780b49ae2",
   "metadata": {},
   "outputs": [],
   "source": [
    "#optional file"
   ]
  },
  {
   "cell_type": "code",
   "execution_count": 1,
   "id": "207180cf-0f4a-4a12-b0e0-c54d4ae68778",
   "metadata": {},
   "outputs": [],
   "source": [
    "#l1s1\n",
    "import pandas as pd\n",
    "import numpy as np\n",
    "#import matplotlib\n",
    "#matplotlib.use('Agg')\n",
    "import matplotlib.pyplot as plt\n",
    "import os\n",
    "#l1s2\n",
    "#pip install openpyxl -> run if not installed. Needed for excel files\n",
    "#l1s3\n",
    "import warnings\n",
    "#l1s4\n",
    "import scipy\n",
    "from avro.datafile import DataFileReader\n",
    "from avro.io import DatumReader\n",
    "#from datetime import datetime\n",
    "import json\n",
    "import csv\n",
    "from datetime import datetime, timedelta\n",
    "import pytz"
   ]
  },
  {
   "cell_type": "code",
   "execution_count": 3,
   "id": "af011f97-e8e2-43ba-8b95-8d90965f5ec8",
   "metadata": {},
   "outputs": [
    {
     "name": "stdout",
     "output_type": "stream",
     "text": [
      "Collecting nbimporter\n",
      "  Downloading nbimporter-0.3.4-py3-none-any.whl.metadata (252 bytes)\n",
      "Downloading nbimporter-0.3.4-py3-none-any.whl (4.9 kB)\n",
      "Installing collected packages: nbimporter\n",
      "Successfully installed nbimporter-0.3.4\n"
     ]
    }
   ],
   "source": [
    "#to import all the notebooks of this level\n",
    "!pip install nbimporter"
   ]
  },
  {
   "cell_type": "code",
   "execution_count": 4,
   "id": "b1c4cb16-8f26-4538-a245-9f7929e65703",
   "metadata": {},
   "outputs": [],
   "source": [
    "import nbimporter"
   ]
  },
  {
   "cell_type": "code",
   "execution_count": 7,
   "id": "29e84956-eada-4b94-b8ae-e989aef92742",
   "metadata": {},
   "outputs": [],
   "source": [
    "#import l1s1\n",
    "import l1s2\n",
    "import l1s3\n",
    "import l1s4"
   ]
  },
  {
   "cell_type": "code",
   "execution_count": 8,
   "id": "d8e0daa1-c1aa-4683-b1fc-76ec26f98e30",
   "metadata": {},
   "outputs": [],
   "source": [
    "#usage of l1s2"
   ]
  },
  {
   "cell_type": "code",
   "execution_count": null,
   "id": "2b4eed97-14fb-4d9f-af88-e45e53feacae",
   "metadata": {},
   "outputs": [],
   "source": [
    "parentfolder = input(\"enter path to subject folder: \")\n",
    "\"\"\"\n",
    "names of folders to be used\n",
    "\"\"\"\n",
    "folder1 = 'empatica'\n",
    "folder2 = 'saved_figures'\n",
    "\n",
    "folder11 = 'aggr_p_min'\n",
    "folder12 = 'avro_files'\n",
    "folder13 = 'avro2csv'\n"
   ]
  }
 ],
 "metadata": {
  "kernelspec": {
   "display_name": "Python 3 (ipykernel)",
   "language": "python",
   "name": "python3"
  },
  "language_info": {
   "codemirror_mode": {
    "name": "ipython",
    "version": 3
   },
   "file_extension": ".py",
   "mimetype": "text/x-python",
   "name": "python",
   "nbconvert_exporter": "python",
   "pygments_lexer": "ipython3",
   "version": "3.11.7"
  }
 },
 "nbformat": 4,
 "nbformat_minor": 5
}
